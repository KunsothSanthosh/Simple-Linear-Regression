{
 "cells": [
  {
   "cell_type": "markdown",
   "id": "9ba8961c",
   "metadata": {},
   "source": [
    "Question:- Build a simple linear regression model by performing EDA and do necessary transformations and select the best model using R or Python.\n",
    "\n",
    "1) Delivery_time -> Predict delivery time using sorting time \n",
    "2) Salary_hike -> Build a prediction model for Salary_hike"
   ]
  },
  {
   "cell_type": "code",
   "execution_count": 9,
   "id": "b145628f",
   "metadata": {},
   "outputs": [],
   "source": [
    "import pandas as pd\n",
    "import numpy as np\n",
    "import matplotlib.pyplot as plt\n",
    "%matplotlib inline\n",
    "import pandas_profiling as pp\n",
    "import sweetviz as sv\n",
    "import seaborn as sns\n",
    "import statsmodels.formula.api as smf"
   ]
  },
  {
   "cell_type": "markdown",
   "id": "f3b81076",
   "metadata": {},
   "source": [
    "EDA Testing stepWise"
   ]
  },
  {
   "cell_type": "markdown",
   "id": "2c6d8d1d",
   "metadata": {},
   "source": [
    "1) Delivery_time -> Predict delivery time using sorting time "
   ]
  },
  {
   "cell_type": "markdown",
   "id": "ab154ef8",
   "metadata": {},
   "source": [
    "1. Reading the Data sets file i.e (DATA SOURCING)"
   ]
  },
  {
   "cell_type": "code",
   "execution_count": 2,
   "id": "61083366",
   "metadata": {},
   "outputs": [],
   "source": [
    "data = pd.read_csv(\"C:/Users/0004IW744/Desktop/Python/Assignments/4.Simple Linear Regression/Salary_Data.csv\")\n",
    "time = pd.read_csv(\"C:/Users/0004IW744/Desktop/Python/Assignments/4.Simple Linear Regression/delivery_time.csv\")"
   ]
  },
  {
   "cell_type": "markdown",
   "id": "b5577653",
   "metadata": {},
   "source": [
    "2. Cleaning the Data by Checking:- Missing Values, Incorrect Format, Incorrect Headers, Anomalies/Outliers"
   ]
  },
  {
   "cell_type": "markdown",
   "id": "cfa66657",
   "metadata": {},
   "source": [
    "Missing Value check"
   ]
  },
  {
   "cell_type": "code",
   "execution_count": 3,
   "id": "137b45ff",
   "metadata": {},
   "outputs": [
    {
     "name": "stdout",
     "output_type": "stream",
     "text": [
      "<class 'pandas.core.frame.DataFrame'>\n",
      "RangeIndex: 21 entries, 0 to 20\n",
      "Data columns (total 2 columns):\n",
      " #   Column         Non-Null Count  Dtype  \n",
      "---  ------         --------------  -----  \n",
      " 0   Delivery Time  21 non-null     float64\n",
      " 1   Sorting Time   21 non-null     int64  \n",
      "dtypes: float64(1), int64(1)\n",
      "memory usage: 464.0 bytes\n"
     ]
    }
   ],
   "source": [
    "time.info()"
   ]
  },
  {
   "cell_type": "markdown",
   "id": "5adcc9ff",
   "metadata": {},
   "source": [
    "Data type checking"
   ]
  },
  {
   "cell_type": "code",
   "execution_count": 4,
   "id": "e58daeac",
   "metadata": {},
   "outputs": [
    {
     "data": {
      "text/plain": [
       "Delivery Time    float64\n",
       "Sorting Time       int64\n",
       "dtype: object"
      ]
     },
     "execution_count": 4,
     "metadata": {},
     "output_type": "execute_result"
    }
   ],
   "source": [
    "time.dtypes"
   ]
  },
  {
   "cell_type": "markdown",
   "id": "dddad327",
   "metadata": {},
   "source": [
    "Checking missing values"
   ]
  },
  {
   "cell_type": "code",
   "execution_count": 5,
   "id": "8ced148c",
   "metadata": {},
   "outputs": [
    {
     "data": {
      "text/plain": [
       "Delivery Time    0\n",
       "Sorting Time     0\n",
       "dtype: int64"
      ]
     },
     "execution_count": 5,
     "metadata": {},
     "output_type": "execute_result"
    }
   ],
   "source": [
    "time.isnull().sum()"
   ]
  },
  {
   "cell_type": "markdown",
   "id": "0b60e983",
   "metadata": {},
   "source": [
    "Renaming the Columns if not correct"
   ]
  },
  {
   "cell_type": "code",
   "execution_count": 6,
   "id": "2d5a0974",
   "metadata": {},
   "outputs": [
    {
     "data": {
      "text/html": [
       "<div>\n",
       "<style scoped>\n",
       "    .dataframe tbody tr th:only-of-type {\n",
       "        vertical-align: middle;\n",
       "    }\n",
       "\n",
       "    .dataframe tbody tr th {\n",
       "        vertical-align: top;\n",
       "    }\n",
       "\n",
       "    .dataframe thead th {\n",
       "        text-align: right;\n",
       "    }\n",
       "</style>\n",
       "<table border=\"1\" class=\"dataframe\">\n",
       "  <thead>\n",
       "    <tr style=\"text-align: right;\">\n",
       "      <th></th>\n",
       "      <th>Delivery Time</th>\n",
       "      <th>Sorting Time</th>\n",
       "    </tr>\n",
       "  </thead>\n",
       "  <tbody>\n",
       "  </tbody>\n",
       "</table>\n",
       "</div>"
      ],
      "text/plain": [
       "Empty DataFrame\n",
       "Columns: [Delivery Time, Sorting Time]\n",
       "Index: []"
      ]
     },
     "execution_count": 6,
     "metadata": {},
     "output_type": "execute_result"
    }
   ],
   "source": [
    "time[time.duplicated()]"
   ]
  },
  {
   "cell_type": "markdown",
   "id": "47068ab0",
   "metadata": {},
   "source": [
    "# Data visualization"
   ]
  },
  {
   "cell_type": "code",
   "execution_count": 10,
   "id": "00b28370",
   "metadata": {},
   "outputs": [
    {
     "name": "stderr",
     "output_type": "stream",
     "text": [
      "C:\\Users\\0004IW744\\Anaconda3\\lib\\site-packages\\seaborn\\distributions.py:2557: FutureWarning: `distplot` is a deprecated function and will be removed in a future version. Please adapt your code to use either `displot` (a figure-level function with similar flexibility) or `histplot` (an axes-level function for histograms).\n",
      "  warnings.warn(msg, FutureWarning)\n"
     ]
    },
    {
     "data": {
      "text/plain": [
       "<AxesSubplot:xlabel='Delivery Time', ylabel='Density'>"
      ]
     },
     "execution_count": 10,
     "metadata": {},
     "output_type": "execute_result"
    },
    {
     "data": {
      "image/png": "[encoded data removed]",
      "text/plain": [
       "<Figure size 432x288 with 1 Axes>"
      ]
     },
     "metadata": {
      "needs_background": "light"
     },
     "output_type": "display_data"
    }
   ],
   "source": [
    "sns.distplot(time['Delivery Time'])"
   ]
  },
  {
   "cell_type": "code",
   "execution_count": 11,
   "id": "e63fcc41",
   "metadata": {
    "scrolled": false
   },
   "outputs": [
    {
     "name": "stderr",
     "output_type": "stream",
     "text": [
      "C:\\Users\\0004IW744\\Anaconda3\\lib\\site-packages\\seaborn\\distributions.py:2557: FutureWarning: `distplot` is a deprecated function and will be removed in a future version. Please adapt your code to use either `displot` (a figure-level function with similar flexibility) or `histplot` (an axes-level function for histograms).\n",
      "  warnings.warn(msg, FutureWarning)\n"
     ]
    },
    {
     "data": {
      "text/plain": [
       "<AxesSubplot:xlabel='Sorting Time', ylabel='Density'>"
      ]
     },
     "execution_count": 11,
     "metadata": {},
     "output_type": "execute_result"
    },
    {
     "data": {
      "image/png": "[encoded data removed]",
      "text/plain": [
       "<Figure size 432x288 with 1 Axes>"
      ]
     },
     "metadata": {
      "needs_background": "light"
     },
     "output_type": "display_data"
    }
   ],
   "source": [
    "sns.distplot(time['Sorting Time'])"
   ]
  },
  {
   "cell_type": "markdown",
   "id": "cb7f3c7a",
   "metadata": {},
   "source": [
    "# 1)Delivery_time -> Predict delivery time using sorting time"
   ]
  },
  {
   "cell_type": "markdown",
   "id": "bda3aa9f",
   "metadata": {},
   "source": [
    "Renaming the column name as we have space inbetween"
   ]
  },
  {
   "cell_type": "code",
   "execution_count": 24,
   "id": "097b03ed",
   "metadata": {},
   "outputs": [],
   "source": [
    "time = time.rename({'Delivery Time':'delivery_time','Sorting Time':'sorting_time'},axis =1) "
   ]
  },
  {
   "cell_type": "markdown",
   "id": "f569a4a1",
   "metadata": {},
   "source": [
    "# Correlation Analysis"
   ]
  },
  {
   "cell_type": "code",
   "execution_count": 25,
   "id": "1af8a52c",
   "metadata": {},
   "outputs": [
    {
     "data": {
      "text/html": [
       "<div>\n",
       "<style scoped>\n",
       "    .dataframe tbody tr th:only-of-type {\n",
       "        vertical-align: middle;\n",
       "    }\n",
       "\n",
       "    .dataframe tbody tr th {\n",
       "        vertical-align: top;\n",
       "    }\n",
       "\n",
       "    .dataframe thead th {\n",
       "        text-align: right;\n",
       "    }\n",
       "</style>\n",
       "<table border=\"1\" class=\"dataframe\">\n",
       "  <thead>\n",
       "    <tr style=\"text-align: right;\">\n",
       "      <th></th>\n",
       "      <th>delivery_time</th>\n",
       "      <th>sorting_time</th>\n",
       "    </tr>\n",
       "  </thead>\n",
       "  <tbody>\n",
       "    <tr>\n",
       "      <th>delivery_time</th>\n",
       "      <td>1.000000</td>\n",
       "      <td>0.825997</td>\n",
       "    </tr>\n",
       "    <tr>\n",
       "      <th>sorting_time</th>\n",
       "      <td>0.825997</td>\n",
       "      <td>1.000000</td>\n",
       "    </tr>\n",
       "  </tbody>\n",
       "</table>\n",
       "</div>"
      ],
      "text/plain": [
       "               delivery_time  sorting_time\n",
       "delivery_time       1.000000      0.825997\n",
       "sorting_time        0.825997      1.000000"
      ]
     },
     "execution_count": 25,
     "metadata": {},
     "output_type": "execute_result"
    }
   ],
   "source": [
    "time.corr()"
   ]
  },
  {
   "cell_type": "code",
   "execution_count": 26,
   "id": "3783d5b1",
   "metadata": {
    "scrolled": true
   },
   "outputs": [
    {
     "data": {
      "text/plain": [
       "<AxesSubplot:xlabel='sorting_time', ylabel='delivery_time'>"
      ]
     },
     "execution_count": 26,
     "metadata": {},
     "output_type": "execute_result"
    },
    {
     "data": {
      "image/png": "[encoded data removed]",
      "text/plain": [
       "<Figure size 432x288 with 1 Axes>"
      ]
     },
     "metadata": {
      "needs_background": "light"
     },
     "output_type": "display_data"
    }
   ],
   "source": [
    "sns.regplot(x=time['sorting_time'],y=time['delivery_time'])"
   ]
  },
  {
   "cell_type": "markdown",
   "id": "4437d9ba",
   "metadata": {},
   "source": [
    "# Model Building"
   ]
  },
  {
   "cell_type": "code",
   "execution_count": 27,
   "id": "6bfecd43",
   "metadata": {},
   "outputs": [],
   "source": [
    "model=smf.ols(\"delivery_time~sorting_time\",data=time).fit()"
   ]
  },
  {
   "cell_type": "markdown",
   "id": "b3019680",
   "metadata": {},
   "source": [
    "# Model Testing, finding independent varibles and independent variable,intercet,slope\n"
   ]
  },
  {
   "cell_type": "code",
   "execution_count": 28,
   "id": "924591a2",
   "metadata": {},
   "outputs": [
    {
     "data": {
      "text/plain": [
       "Intercept       6.582734\n",
       "sorting_time    1.649020\n",
       "dtype: float64"
      ]
     },
     "execution_count": 28,
     "metadata": {},
     "output_type": "execute_result"
    }
   ],
   "source": [
    "model.params"
   ]
  },
  {
   "cell_type": "code",
   "execution_count": 29,
   "id": "8251f270",
   "metadata": {},
   "outputs": [
    {
     "data": {
      "text/plain": [
       "(Intercept       3.823349\n",
       " sorting_time    6.387447\n",
       " dtype: float64,\n",
       " Intercept       0.001147\n",
       " sorting_time    0.000004\n",
       " dtype: float64)"
      ]
     },
     "execution_count": 29,
     "metadata": {},
     "output_type": "execute_result"
    }
   ],
   "source": [
    "model.tvalues,  model.pvalues"
   ]
  },
  {
   "cell_type": "markdown",
   "id": "cc9a37af",
   "metadata": {},
   "source": [
    "Hence, p-value is less than 0.05 it is significant to find the value(y)"
   ]
  },
  {
   "cell_type": "code",
   "execution_count": 30,
   "id": "62b9d0c8",
   "metadata": {},
   "outputs": [
    {
     "data": {
      "text/plain": [
       "(0.6822714748417231, 0.6655489208860244)"
      ]
     },
     "execution_count": 30,
     "metadata": {},
     "output_type": "execute_result"
    }
   ],
   "source": [
    "model.rsquared , model.rsquared_adj"
   ]
  },
  {
   "cell_type": "markdown",
   "id": "50d76812",
   "metadata": {},
   "source": [
    "# Different transformations applying"
   ]
  },
  {
   "cell_type": "markdown",
   "id": "30895683",
   "metadata": {},
   "source": [
    "Exponential"
   ]
  },
  {
   "cell_type": "code",
   "execution_count": 33,
   "id": "21495baa",
   "metadata": {},
   "outputs": [],
   "source": [
    "model_exp=smf.ols(\"delivery_time~np.exp(sorting_time)\",data=time).fit()"
   ]
  },
  {
   "cell_type": "code",
   "execution_count": 36,
   "id": "25a26938",
   "metadata": {},
   "outputs": [
    {
     "data": {
      "text/plain": [
       "Intercept               15.083578\n",
       "np.exp(sorting_time)     0.000393\n",
       "dtype: float64"
      ]
     },
     "execution_count": 36,
     "metadata": {},
     "output_type": "execute_result"
    }
   ],
   "source": [
    "model_exp.params"
   ]
  },
  {
   "cell_type": "code",
   "execution_count": 37,
   "id": "1b8b3208",
   "metadata": {},
   "outputs": [
    {
     "data": {
      "text/plain": [
       "(Intercept               1.117304e-11\n",
       " np.exp(sorting_time)    3.964511e-03\n",
       " dtype: float64,\n",
       " Intercept               14.406456\n",
       " np.exp(sorting_time)     3.277108\n",
       " dtype: float64)"
      ]
     },
     "execution_count": 37,
     "metadata": {},
     "output_type": "execute_result"
    }
   ],
   "source": [
    "model_exp.pvalues, model_exp.tvalues"
   ]
  },
  {
   "cell_type": "code",
   "execution_count": 40,
   "id": "a287521a",
   "metadata": {},
   "outputs": [
    {
     "data": {
      "text/plain": [
       "(0.361117702270909, 0.3274923181799042)"
      ]
     },
     "execution_count": 40,
     "metadata": {},
     "output_type": "execute_result"
    }
   ],
   "source": [
    "model_exp.rsquared, model_exp.rsquared_adj"
   ]
  },
  {
   "cell_type": "markdown",
   "id": "dd94fd45",
   "metadata": {},
   "source": [
    "log transformation"
   ]
  },
  {
   "cell_type": "code",
   "execution_count": 41,
   "id": "917e055d",
   "metadata": {},
   "outputs": [],
   "source": [
    "model_log = smf.ols(\"delivery_time~np.log(sorting_time)\", data = time).fit()"
   ]
  },
  {
   "cell_type": "code",
   "execution_count": 42,
   "id": "f595a8af",
   "metadata": {},
   "outputs": [
    {
     "data": {
      "text/plain": [
       "Intercept               1.159684\n",
       "np.log(sorting_time)    9.043413\n",
       "dtype: float64"
      ]
     },
     "execution_count": 42,
     "metadata": {},
     "output_type": "execute_result"
    }
   ],
   "source": [
    "model_log.params"
   ]
  },
  {
   "cell_type": "code",
   "execution_count": 43,
   "id": "decc94be",
   "metadata": {},
   "outputs": [
    {
     "data": {
      "text/plain": [
       "(Intercept               0.641980\n",
       " np.log(sorting_time)    0.000003\n",
       " dtype: float64,\n",
       " Intercept               0.472460\n",
       " np.log(sorting_time)    6.586789\n",
       " dtype: float64)"
      ]
     },
     "execution_count": 43,
     "metadata": {},
     "output_type": "execute_result"
    }
   ],
   "source": [
    "model_log.pvalues, model_log.tvalues"
   ]
  },
  {
   "cell_type": "code",
   "execution_count": 44,
   "id": "0536eaa9",
   "metadata": {},
   "outputs": [
    {
     "data": {
      "text/plain": [
       "(0.6954434611324223, 0.6794141696130761)"
      ]
     },
     "execution_count": 44,
     "metadata": {},
     "output_type": "execute_result"
    }
   ],
   "source": [
    "model_log.rsquared, model_log.rsquared_adj"
   ]
  },
  {
   "cell_type": "markdown",
   "id": "16132778",
   "metadata": {},
   "source": [
    "square root transformation"
   ]
  },
  {
   "cell_type": "code",
   "execution_count": 45,
   "id": "beb0f14b",
   "metadata": {},
   "outputs": [],
   "source": [
    "model_sqrt = smf.ols(\"delivery_time~np.sqrt(sorting_time)\", data = time).fit()"
   ]
  },
  {
   "cell_type": "code",
   "execution_count": 46,
   "id": "69637ad4",
   "metadata": {},
   "outputs": [
    {
     "data": {
      "text/plain": [
       "Intercept               -2.518837\n",
       "np.sqrt(sorting_time)    7.936591\n",
       "dtype: float64"
      ]
     },
     "execution_count": 46,
     "metadata": {},
     "output_type": "execute_result"
    }
   ],
   "source": [
    "model_sqrt.params"
   ]
  },
  {
   "cell_type": "code",
   "execution_count": 47,
   "id": "a6e6a6af",
   "metadata": {},
   "outputs": [
    {
     "data": {
      "text/plain": [
       "(Intercept                0.410857\n",
       " np.sqrt(sorting_time)    0.000003\n",
       " dtype: float64,\n",
       " Intercept               -0.840911\n",
       " np.sqrt(sorting_time)    6.592434\n",
       " dtype: float64)"
      ]
     },
     "execution_count": 47,
     "metadata": {},
     "output_type": "execute_result"
    }
   ],
   "source": [
    "model_sqrt.pvalues, model_sqrt.tvalues"
   ]
  },
  {
   "cell_type": "code",
   "execution_count": 51,
   "id": "69842105",
   "metadata": {},
   "outputs": [
    {
     "data": {
      "text/plain": [
       "(0.6958062276308671, 0.6797960290851233)"
      ]
     },
     "execution_count": 51,
     "metadata": {},
     "output_type": "execute_result"
    }
   ],
   "source": [
    "model_sqrt.rsquared, model_sqrt.rsquared_adj"
   ]
  },
  {
   "cell_type": "markdown",
   "id": "67dc4cae",
   "metadata": {},
   "source": [
    "In above all we can see the model with square root and model both have nearly same the r^2 value, \n",
    "So we can build with any of this "
   ]
  },
  {
   "cell_type": "markdown",
   "id": "247bde7e",
   "metadata": {},
   "source": [
    "# Perdict for the sorting time take 10, 8 ,5"
   ]
  },
  {
   "cell_type": "code",
   "execution_count": 52,
   "id": "206e8e76",
   "metadata": {},
   "outputs": [],
   "source": [
    "Predict_time = pd.Series([10,8,5])"
   ]
  },
  {
   "cell_type": "code",
   "execution_count": 56,
   "id": "c24ddb34",
   "metadata": {},
   "outputs": [
    {
     "data": {
      "text/html": [
       "<div>\n",
       "<style scoped>\n",
       "    .dataframe tbody tr th:only-of-type {\n",
       "        vertical-align: middle;\n",
       "    }\n",
       "\n",
       "    .dataframe tbody tr th {\n",
       "        vertical-align: top;\n",
       "    }\n",
       "\n",
       "    .dataframe thead th {\n",
       "        text-align: right;\n",
       "    }\n",
       "</style>\n",
       "<table border=\"1\" class=\"dataframe\">\n",
       "  <thead>\n",
       "    <tr style=\"text-align: right;\">\n",
       "      <th></th>\n",
       "      <th>sorting_time</th>\n",
       "    </tr>\n",
       "  </thead>\n",
       "  <tbody>\n",
       "    <tr>\n",
       "      <th>0</th>\n",
       "      <td>10</td>\n",
       "    </tr>\n",
       "    <tr>\n",
       "      <th>1</th>\n",
       "      <td>8</td>\n",
       "    </tr>\n",
       "    <tr>\n",
       "      <th>2</th>\n",
       "      <td>5</td>\n",
       "    </tr>\n",
       "  </tbody>\n",
       "</table>\n",
       "</div>"
      ],
      "text/plain": [
       "   sorting_time\n",
       "0            10\n",
       "1             8\n",
       "2             5"
      ]
     },
     "execution_count": 56,
     "metadata": {},
     "output_type": "execute_result"
    }
   ],
   "source": [
    "data_pred=pd.DataFrame(Predict_time,columns=['sorting_time'])\n",
    "data_pred"
   ]
  },
  {
   "cell_type": "code",
   "execution_count": 57,
   "id": "9d99bdf2",
   "metadata": {},
   "outputs": [
    {
     "data": {
      "text/plain": [
       "0    23.072933\n",
       "1    19.774893\n",
       "2    14.827833\n",
       "dtype: float64"
      ]
     },
     "execution_count": 57,
     "metadata": {},
     "output_type": "execute_result"
    }
   ],
   "source": [
    "model.predict(data_pred)"
   ]
  },
  {
   "cell_type": "code",
   "execution_count": 59,
   "id": "6c89372a",
   "metadata": {},
   "outputs": [
    {
     "data": {
      "text/plain": [
       "0    22.578867\n",
       "1    19.929232\n",
       "2    15.227920\n",
       "dtype: float64"
      ]
     },
     "execution_count": 59,
     "metadata": {},
     "output_type": "execute_result"
    }
   ],
   "source": [
    "model_sqrt.predict(data_pred)"
   ]
  },
  {
   "cell_type": "markdown",
   "id": "ed080751",
   "metadata": {},
   "source": [
    "# 2) Salary_hike -> Build a prediction model for Salary_hike"
   ]
  },
  {
   "cell_type": "code",
   "execution_count": 215,
   "id": "645d8429",
   "metadata": {},
   "outputs": [
    {
     "name": "stderr",
     "output_type": "stream",
     "text": [
      "C:\\Users\\0004IW744\\Anaconda3\\lib\\site-packages\\seaborn\\distributions.py:2557: FutureWarning: `distplot` is a deprecated function and will be removed in a future version. Please adapt your code to use either `displot` (a figure-level function with similar flexibility) or `histplot` (an axes-level function for histograms).\n",
      "  warnings.warn(msg, FutureWarning)\n"
     ]
    },
    {
     "data": {
      "text/plain": [
       "<AxesSubplot:xlabel='YearsExperience', ylabel='Density'>"
      ]
     },
     "execution_count": 215,
     "metadata": {},
     "output_type": "execute_result"
    },
    {
     "data": {
      "image/png": "[encoded data removed]",
      "text/plain": [
       "<Figure size 432x288 with 1 Axes>"
      ]
     },
     "metadata": {
      "needs_background": "light"
     },
     "output_type": "display_data"
    }
   ],
   "source": [
    "sns.distplot(data['YearsExperience'])"
   ]
  },
  {
   "cell_type": "code",
   "execution_count": 216,
   "id": "d90d04c7",
   "metadata": {},
   "outputs": [
    {
     "name": "stderr",
     "output_type": "stream",
     "text": [
      "C:\\Users\\0004IW744\\Anaconda3\\lib\\site-packages\\seaborn\\distributions.py:2557: FutureWarning: `distplot` is a deprecated function and will be removed in a future version. Please adapt your code to use either `displot` (a figure-level function with similar flexibility) or `histplot` (an axes-level function for histograms).\n",
      "  warnings.warn(msg, FutureWarning)\n"
     ]
    },
    {
     "data": {
      "text/plain": [
       "<AxesSubplot:xlabel='Salary', ylabel='Density'>"
      ]
     },
     "execution_count": 216,
     "metadata": {},
     "output_type": "execute_result"
    },
    {
     "data": {
      "image/png": "[encoded data removed]",
      "text/plain": [
       "<Figure size 432x288 with 1 Axes>"
      ]
     },
     "metadata": {
      "needs_background": "light"
     },
     "output_type": "display_data"
    }
   ],
   "source": [
    "sns.distplot(data['Salary'])"
   ]
  },
  {
   "cell_type": "code",
   "execution_count": 217,
   "id": "b06c4aef",
   "metadata": {
    "scrolled": true
   },
   "outputs": [
    {
     "data": {
      "text/html": [
       "<div>\n",
       "<style scoped>\n",
       "    .dataframe tbody tr th:only-of-type {\n",
       "        vertical-align: middle;\n",
       "    }\n",
       "\n",
       "    .dataframe tbody tr th {\n",
       "        vertical-align: top;\n",
       "    }\n",
       "\n",
       "    .dataframe thead th {\n",
       "        text-align: right;\n",
       "    }\n",
       "</style>\n",
       "<table border=\"1\" class=\"dataframe\">\n",
       "  <thead>\n",
       "    <tr style=\"text-align: right;\">\n",
       "      <th></th>\n",
       "      <th>YearsExperience</th>\n",
       "      <th>Salary</th>\n",
       "    </tr>\n",
       "  </thead>\n",
       "  <tbody>\n",
       "    <tr>\n",
       "      <th>YearsExperience</th>\n",
       "      <td>1.000000</td>\n",
       "      <td>0.978242</td>\n",
       "    </tr>\n",
       "    <tr>\n",
       "      <th>Salary</th>\n",
       "      <td>0.978242</td>\n",
       "      <td>1.000000</td>\n",
       "    </tr>\n",
       "  </tbody>\n",
       "</table>\n",
       "</div>"
      ],
      "text/plain": [
       "                 YearsExperience    Salary\n",
       "YearsExperience         1.000000  0.978242\n",
       "Salary                  0.978242  1.000000"
      ]
     },
     "execution_count": 217,
     "metadata": {},
     "output_type": "execute_result"
    }
   ],
   "source": [
    "data.corr()"
   ]
  },
  {
   "cell_type": "code",
   "execution_count": 218,
   "id": "ea4ffa5a",
   "metadata": {
    "scrolled": true
   },
   "outputs": [
    {
     "data": {
      "text/plain": [
       "<AxesSubplot:xlabel='YearsExperience', ylabel='Salary'>"
      ]
     },
     "execution_count": 218,
     "metadata": {},
     "output_type": "execute_result"
    },
    {
     "data": {
      "image/png": "[encoded data removed]",
      "text/plain": [
       "<Figure size 432x288 with 1 Axes>"
      ]
     },
     "metadata": {
      "needs_background": "light"
     },
     "output_type": "display_data"
    }
   ],
   "source": [
    "sns.regplot(x=data['YearsExperience'],y=data['Salary'])"
   ]
  },
  {
   "cell_type": "code",
   "execution_count": 226,
   "id": "1596625a",
   "metadata": {},
   "outputs": [],
   "source": [
    "model1=smf.ols(\"Salary~YearsExperience\",data=data).fit()"
   ]
  },
  {
   "cell_type": "code",
   "execution_count": 227,
   "id": "87a73bae",
   "metadata": {},
   "outputs": [
    {
     "data": {
      "text/plain": [
       "Intercept          25792.200199\n",
       "YearsExperience     9449.962321\n",
       "dtype: float64"
      ]
     },
     "execution_count": 227,
     "metadata": {},
     "output_type": "execute_result"
    }
   ],
   "source": [
    "model1.params"
   ]
  },
  {
   "cell_type": "code",
   "execution_count": 229,
   "id": "2597735b",
   "metadata": {},
   "outputs": [
    {
     "data": {
      "text/plain": [
       "(Intercept          11.346940\n",
       " YearsExperience    24.950094\n",
       " dtype: float64,\n",
       " Intercept          5.511950e-12\n",
       " YearsExperience    1.143068e-20\n",
       " dtype: float64)"
      ]
     },
     "execution_count": 229,
     "metadata": {},
     "output_type": "execute_result"
    }
   ],
   "source": [
    "model1.tvalues,model1.pvalues"
   ]
  },
  {
   "cell_type": "code",
   "execution_count": 230,
   "id": "f3280d76",
   "metadata": {},
   "outputs": [
    {
     "data": {
      "text/plain": [
       "(0.9569566641435086, 0.9554194021486339)"
      ]
     },
     "execution_count": 230,
     "metadata": {},
     "output_type": "execute_result"
    }
   ],
   "source": [
    "model1.rsquared , model1.rsquared_adj"
   ]
  },
  {
   "cell_type": "code",
   "execution_count": 232,
   "id": "e757af57",
   "metadata": {},
   "outputs": [
    {
     "data": {
      "text/html": [
       "<table class=\"simpletable\">\n",
       "<caption>OLS Regression Results</caption>\n",
       "<tr>\n",
       "  <th>Dep. Variable:</th>         <td>Salary</td>      <th>  R-squared:         </th> <td>   0.957</td>\n",
       "</tr>\n",
       "<tr>\n",
       "  <th>Model:</th>                   <td>OLS</td>       <th>  Adj. R-squared:    </th> <td>   0.955</td>\n",
       "</tr>\n",
       "<tr>\n",
       "  <th>Method:</th>             <td>Least Squares</td>  <th>  F-statistic:       </th> <td>   622.5</td>\n",
       "</tr>\n",
       "<tr>\n",
       "  <th>Date:</th>             <td>Sun, 12 Dec 2021</td> <th>  Prob (F-statistic):</th> <td>1.14e-20</td>\n",
       "</tr>\n",
       "<tr>\n",
       "  <th>Time:</th>                 <td>22:27:29</td>     <th>  Log-Likelihood:    </th> <td> -301.44</td>\n",
       "</tr>\n",
       "<tr>\n",
       "  <th>No. Observations:</th>      <td>    30</td>      <th>  AIC:               </th> <td>   606.9</td>\n",
       "</tr>\n",
       "<tr>\n",
       "  <th>Df Residuals:</th>          <td>    28</td>      <th>  BIC:               </th> <td>   609.7</td>\n",
       "</tr>\n",
       "<tr>\n",
       "  <th>Df Model:</th>              <td>     1</td>      <th>                     </th>     <td> </td>   \n",
       "</tr>\n",
       "<tr>\n",
       "  <th>Covariance Type:</th>      <td>nonrobust</td>    <th>                     </th>     <td> </td>   \n",
       "</tr>\n",
       "</table>\n",
       "<table class=\"simpletable\">\n",
       "<tr>\n",
       "         <td></td>            <th>coef</th>     <th>std err</th>      <th>t</th>      <th>P>|t|</th>  <th>[0.025</th>    <th>0.975]</th>  \n",
       "</tr>\n",
       "<tr>\n",
       "  <th>Intercept</th>       <td> 2.579e+04</td> <td> 2273.053</td> <td>   11.347</td> <td> 0.000</td> <td> 2.11e+04</td> <td> 3.04e+04</td>\n",
       "</tr>\n",
       "<tr>\n",
       "  <th>YearsExperience</th> <td> 9449.9623</td> <td>  378.755</td> <td>   24.950</td> <td> 0.000</td> <td> 8674.119</td> <td> 1.02e+04</td>\n",
       "</tr>\n",
       "</table>\n",
       "<table class=\"simpletable\">\n",
       "<tr>\n",
       "  <th>Omnibus:</th>       <td> 2.140</td> <th>  Durbin-Watson:     </th> <td>   1.648</td>\n",
       "</tr>\n",
       "<tr>\n",
       "  <th>Prob(Omnibus):</th> <td> 0.343</td> <th>  Jarque-Bera (JB):  </th> <td>   1.569</td>\n",
       "</tr>\n",
       "<tr>\n",
       "  <th>Skew:</th>          <td> 0.363</td> <th>  Prob(JB):          </th> <td>   0.456</td>\n",
       "</tr>\n",
       "<tr>\n",
       "  <th>Kurtosis:</th>      <td> 2.147</td> <th>  Cond. No.          </th> <td>    13.2</td>\n",
       "</tr>\n",
       "</table><br/><br/>Notes:<br/>[1] Standard Errors assume that the covariance matrix of the errors is correctly specified."
      ],
      "text/plain": [
       "<class 'statsmodels.iolib.summary.Summary'>\n",
       "\"\"\"\n",
       "                            OLS Regression Results                            \n",
       "==============================================================================\n",
       "Dep. Variable:                 Salary   R-squared:                       0.957\n",
       "Model:                            OLS   Adj. R-squared:                  0.955\n",
       "Method:                 Least Squares   F-statistic:                     622.5\n",
       "Date:                Sun, 12 Dec 2021   Prob (F-statistic):           1.14e-20\n",
       "Time:                        22:27:29   Log-Likelihood:                -301.44\n",
       "No. Observations:                  30   AIC:                             606.9\n",
       "Df Residuals:                      28   BIC:                             609.7\n",
       "Df Model:                           1                                         \n",
       "Covariance Type:            nonrobust                                         \n",
       "===================================================================================\n",
       "                      coef    std err          t      P>|t|      [0.025      0.975]\n",
       "-----------------------------------------------------------------------------------\n",
       "Intercept        2.579e+04   2273.053     11.347      0.000    2.11e+04    3.04e+04\n",
       "YearsExperience  9449.9623    378.755     24.950      0.000    8674.119    1.02e+04\n",
       "==============================================================================\n",
       "Omnibus:                        2.140   Durbin-Watson:                   1.648\n",
       "Prob(Omnibus):                  0.343   Jarque-Bera (JB):                1.569\n",
       "Skew:                           0.363   Prob(JB):                        0.456\n",
       "Kurtosis:                       2.147   Cond. No.                         13.2\n",
       "==============================================================================\n",
       "\n",
       "Notes:\n",
       "[1] Standard Errors assume that the covariance matrix of the errors is correctly specified.\n",
       "\"\"\""
      ]
     },
     "execution_count": 232,
     "metadata": {},
     "output_type": "execute_result"
    }
   ],
   "source": [
    "model1.summary()"
   ]
  },
  {
   "cell_type": "markdown",
   "id": "6b345fea",
   "metadata": {},
   "source": [
    "# Transformation"
   ]
  },
  {
   "cell_type": "markdown",
   "id": "98557a9a",
   "metadata": {},
   "source": [
    "Using exponential"
   ]
  },
  {
   "cell_type": "code",
   "execution_count": 187,
   "id": "086d1544",
   "metadata": {},
   "outputs": [],
   "source": [
    "model2=smf.ols(\"Salary~np.exp(YearsExperience)\",data=data).fit()"
   ]
  },
  {
   "cell_type": "code",
   "execution_count": 188,
   "id": "9744dc57",
   "metadata": {},
   "outputs": [
    {
     "data": {
      "text/plain": [
       "Intercept                  67568.624969\n",
       "np.exp(YearsExperience)        2.136040\n",
       "dtype: float64"
      ]
     },
     "execution_count": 188,
     "metadata": {},
     "output_type": "execute_result"
    }
   ],
   "source": [
    "model2.params"
   ]
  },
  {
   "cell_type": "code",
   "execution_count": 189,
   "id": "d5620521",
   "metadata": {
    "scrolled": true
   },
   "outputs": [
    {
     "data": {
      "text/plain": [
       "(Intercept                  16.620427\n",
       " np.exp(YearsExperience)     5.006889\n",
       " dtype: float64,\n",
       " Intercept                  4.888835e-16\n",
       " np.exp(YearsExperience)    2.721588e-05\n",
       " dtype: float64)"
      ]
     },
     "execution_count": 189,
     "metadata": {},
     "output_type": "execute_result"
    }
   ],
   "source": [
    "model2.tvalues,model2.pvalues"
   ]
  },
  {
   "cell_type": "code",
   "execution_count": 190,
   "id": "777b2f2d",
   "metadata": {},
   "outputs": [
    {
     "data": {
      "text/plain": [
       "(0.47238440560728734, 0.45354099152183325)"
      ]
     },
     "execution_count": 190,
     "metadata": {},
     "output_type": "execute_result"
    }
   ],
   "source": [
    "model2.rsquared , model2.rsquared_adj   # Not Advisable model..."
   ]
  },
  {
   "cell_type": "markdown",
   "id": "ad523af8",
   "metadata": {},
   "source": [
    "Using log"
   ]
  },
  {
   "cell_type": "code",
   "execution_count": 191,
   "id": "b720aba9",
   "metadata": {},
   "outputs": [],
   "source": [
    "model3=smf.ols(\"Salary~np.log(YearsExperience)\",data=data).fit()"
   ]
  },
  {
   "cell_type": "code",
   "execution_count": 193,
   "id": "93ae5240",
   "metadata": {},
   "outputs": [
    {
     "data": {
      "text/plain": [
       "Intercept                  14927.97177\n",
       "np.log(YearsExperience)    40581.98796\n",
       "dtype: float64"
      ]
     },
     "execution_count": 193,
     "metadata": {},
     "output_type": "execute_result"
    }
   ],
   "source": [
    "model3.params"
   ]
  },
  {
   "cell_type": "code",
   "execution_count": 194,
   "id": "2491b204",
   "metadata": {},
   "outputs": [
    {
     "data": {
      "text/plain": [
       "(Intercept                   2.895135\n",
       " np.log(YearsExperience)    12.791989\n",
       " dtype: float64,\n",
       " Intercept                  7.268813e-03\n",
       " np.log(YearsExperience)    3.250155e-13\n",
       " dtype: float64)"
      ]
     },
     "execution_count": 194,
     "metadata": {},
     "output_type": "execute_result"
    }
   ],
   "source": [
    "model3.tvalues,model3.pvalues"
   ]
  },
  {
   "cell_type": "code",
   "execution_count": 195,
   "id": "ccef50cc",
   "metadata": {
    "scrolled": true
   },
   "outputs": [
    {
     "data": {
      "text/plain": [
       "(0.8538888828756969, 0.8486706286926861)"
      ]
     },
     "execution_count": 195,
     "metadata": {},
     "output_type": "execute_result"
    }
   ],
   "source": [
    "model3.rsquared , model3.rsquared_adj  "
   ]
  },
  {
   "cell_type": "markdown",
   "id": "976224e5",
   "metadata": {},
   "source": [
    "Using Sqrt"
   ]
  },
  {
   "cell_type": "code",
   "execution_count": 196,
   "id": "63d9cf0a",
   "metadata": {},
   "outputs": [],
   "source": [
    "model4=smf.ols(\"Salary~np.sqrt(YearsExperience)\",data=data).fit()"
   ]
  },
  {
   "cell_type": "code",
   "execution_count": 197,
   "id": "63210c10",
   "metadata": {},
   "outputs": [
    {
     "data": {
      "text/plain": [
       "Intercept                  -16055.769117\n",
       "np.sqrt(YearsExperience)    41500.680583\n",
       "dtype: float64"
      ]
     },
     "execution_count": 197,
     "metadata": {},
     "output_type": "execute_result"
    }
   ],
   "source": [
    "model4.params"
   ]
  },
  {
   "cell_type": "code",
   "execution_count": 199,
   "id": "15f0e573",
   "metadata": {
    "scrolled": true
   },
   "outputs": [
    {
     "data": {
      "text/plain": [
       "(Intercept                   -3.262308\n",
       " np.sqrt(YearsExperience)    19.437148\n",
       " dtype: float64,\n",
       " Intercept                   2.906965e-03\n",
       " np.sqrt(YearsExperience)    8.565358e-18\n",
       " dtype: float64)"
      ]
     },
     "execution_count": 199,
     "metadata": {},
     "output_type": "execute_result"
    }
   ],
   "source": [
    "model4.tvalues,model4.pvalues"
   ]
  },
  {
   "cell_type": "code",
   "execution_count": 200,
   "id": "b75454ca",
   "metadata": {},
   "outputs": [
    {
     "data": {
      "text/plain": [
       "(0.9310009544993526, 0.9285367028743294)"
      ]
     },
     "execution_count": 200,
     "metadata": {},
     "output_type": "execute_result"
    }
   ],
   "source": [
    "model4.rsquared , model4.rsquared_adj"
   ]
  },
  {
   "cell_type": "markdown",
   "id": "12a291a9",
   "metadata": {},
   "source": [
    "By comparing all the values Model1 has the R^2 value with 95% which is best one to predict"
   ]
  },
  {
   "cell_type": "markdown",
   "id": "f4642e1b",
   "metadata": {},
   "source": [
    "# Perdict for the Salary based on YearofExperience 10, 8 ,7"
   ]
  },
  {
   "cell_type": "code",
   "execution_count": 202,
   "id": "74d3c0ed",
   "metadata": {},
   "outputs": [],
   "source": [
    "predict_sal = pd.Series([10, 8 , 7])"
   ]
  },
  {
   "cell_type": "code",
   "execution_count": 203,
   "id": "0adf53da",
   "metadata": {},
   "outputs": [
    {
     "data": {
      "text/html": [
       "<div>\n",
       "<style scoped>\n",
       "    .dataframe tbody tr th:only-of-type {\n",
       "        vertical-align: middle;\n",
       "    }\n",
       "\n",
       "    .dataframe tbody tr th {\n",
       "        vertical-align: top;\n",
       "    }\n",
       "\n",
       "    .dataframe thead th {\n",
       "        text-align: right;\n",
       "    }\n",
       "</style>\n",
       "<table border=\"1\" class=\"dataframe\">\n",
       "  <thead>\n",
       "    <tr style=\"text-align: right;\">\n",
       "      <th></th>\n",
       "      <th>YearsExperience</th>\n",
       "    </tr>\n",
       "  </thead>\n",
       "  <tbody>\n",
       "    <tr>\n",
       "      <th>0</th>\n",
       "      <td>10</td>\n",
       "    </tr>\n",
       "    <tr>\n",
       "      <th>1</th>\n",
       "      <td>8</td>\n",
       "    </tr>\n",
       "    <tr>\n",
       "      <th>2</th>\n",
       "      <td>7</td>\n",
       "    </tr>\n",
       "  </tbody>\n",
       "</table>\n",
       "</div>"
      ],
      "text/plain": [
       "   YearsExperience\n",
       "0               10\n",
       "1                8\n",
       "2                7"
      ]
     },
     "execution_count": 203,
     "metadata": {},
     "output_type": "execute_result"
    }
   ],
   "source": [
    "data_pred2=pd.DataFrame(predict_sal,columns=['YearsExperience'])\n",
    "data_pred2"
   ]
  },
  {
   "cell_type": "code",
   "execution_count": 234,
   "id": "1298f1d0",
   "metadata": {},
   "outputs": [
    {
     "data": {
      "text/plain": [
       "0    120291.823413\n",
       "1    101391.898770\n",
       "2     91941.936449\n",
       "dtype: float64"
      ]
     },
     "execution_count": 234,
     "metadata": {},
     "output_type": "execute_result"
    }
   ],
   "source": [
    "model1.predict(data_pred2)"
   ]
  },
  {
   "cell_type": "markdown",
   "id": "b54da747",
   "metadata": {},
   "source": [
    "model1 is fine as r-squared value is high"
   ]
  },
  {
   "cell_type": "code",
   "execution_count": null,
   "id": "ecd91260",
   "metadata": {},
   "outputs": [],
   "source": []
  }
 ],
 "metadata": {
  "kernelspec": {
   "display_name": "Python 3",
   "language": "python",
   "name": "python3"
  },
  "language_info": {
   "codemirror_mode": {
    "name": "ipython",
    "version": 3
   },
   "file_extension": ".py",
   "mimetype": "text/x-python",
   "name": "python",
   "nbconvert_exporter": "python",
   "pygments_lexer": "ipython3",
   "version": "3.8.8"
  }
 },
 "nbformat": 4,
 "nbformat_minor": 5
}
